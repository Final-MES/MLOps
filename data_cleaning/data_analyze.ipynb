{
 "cells": [
  {
   "cell_type": "code",
   "execution_count": null,
   "id": "7712d779",
   "metadata": {
    "vscode": {
     "languageId": "plaintext"
    }
   },
   "outputs": [],
   "source": [
    "import numpy as np\n",
    "import pandas as pd\n",
    "import os\n",
    "\n",
    "\n",
    "path = \"./data/raw/bosch\"\n",
    "#date = pd.read_csv(path + \"/train_date.csv\")\n",
    "numeric = pd.read_csv(path + \"/train_numeric.csv\")\n",
    "#category = pd.read_csv(path + \"/train_categorical.csv\")\n",
    "\n",
    "print(numeric.columns)"
   ]
  }
 ],
 "metadata": {
  "language_info": {
   "name": "python"
  }
 },
 "nbformat": 4,
 "nbformat_minor": 5
}
