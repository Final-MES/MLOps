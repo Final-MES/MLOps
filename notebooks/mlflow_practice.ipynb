{
 "cells": [
  {
   "cell_type": "code",
   "execution_count": 1,
   "id": "441afc73",
   "metadata": {},
   "outputs": [
    {
     "name": "stderr",
     "output_type": "stream",
     "text": [
      "/usr/local/lib/python3.11/site-packages/pydantic/_internal/_fields.py:149: UserWarning: Field \"model_server_url\" has conflict with protected namespace \"model_\".\n",
      "\n",
      "You may be able to resolve this warning by setting `model_config['protected_namespaces'] = ()`.\n",
      "  warnings.warn(\n",
      "/usr/local/lib/python3.11/site-packages/pydantic/_internal/_config.py:321: UserWarning: Valid config keys have changed in V2:\n",
      "* 'schema_extra' has been renamed to 'json_schema_extra'\n",
      "  warnings.warn(message, UserWarning)\n"
     ]
    },
    {
     "name": "stdout",
     "output_type": "stream",
     "text": [
      "OK\n",
      "MLflow Tracking URI: file:///app/notebooks/mlruns\n"
     ]
    }
   ],
   "source": [
    "# train.py\n",
    "\n",
    "import mlflow\n",
    "from mlflow.tracking import MlflowClient\n",
    "import mlflow.sklearn\n",
    "from sklearn.datasets import load_iris\n",
    "from sklearn.linear_model import LogisticRegression\n",
    "from sklearn.model_selection import train_test_split\n",
    "from sklearn.metrics import accuracy_score\n",
    "\n",
    "# 데이터 불러오기\n",
    "X, y = load_iris(return_X_y=True)\n",
    "X_train, X_test, y_train, y_test = train_test_split(X, y, random_state=42)\n",
    "\n",
    "# 하이퍼파라미터\n",
    "C = 1.0\n",
    "solver = \"lbfgs\"\n",
    "\n",
    "print(\"OK\")\n",
    "print(\"MLflow Tracking URI:\", mlflow.get_tracking_uri())"
   ]
  },
  {
   "cell_type": "code",
   "execution_count": 2,
   "id": "395177e7-e2f7-49e6-984d-29a38b70bd5f",
   "metadata": {},
   "outputs": [
    {
     "name": "stderr",
     "output_type": "stream",
     "text": [
      "2025/04/21 03:01:08 WARNING mlflow.utils.git_utils: Failed to import Git (the Git executable is probably not on your PATH), so Git SHA is not available. Error: Failed to initialize: Bad git executable.\n",
      "The git executable must be specified in one of the following ways:\n",
      "    - be included in your $PATH\n",
      "    - be set via $GIT_PYTHON_GIT_EXECUTABLE\n",
      "    - explicitly set via git.refresh(<full-path-to-git-executable>)\n",
      "\n",
      "All git commands will error until this is rectified.\n",
      "\n",
      "This initial message can be silenced or aggravated in the future by setting the\n",
      "$GIT_PYTHON_REFRESH environment variable. Use one of the following values:\n",
      "    - quiet|q|silence|s|silent|none|n|0: for no message or exception\n",
      "    - warn|w|warning|log|l|1: for a warning message (logging level CRITICAL, displayed by default)\n",
      "    - error|e|exception|raise|r|2: for a raised exception\n",
      "\n",
      "Example:\n",
      "    export GIT_PYTHON_REFRESH=quiet\n",
      "\n"
     ]
    },
    {
     "name": "stdout",
     "output_type": "stream",
     "text": [
      "모델 정확도: 1.0\n"
     ]
    }
   ],
   "source": [
    "# 모델 훈련\n",
    "mlflow.set_tracking_uri(\"http://mlflow:5000\")\n",
    "mlflow.set_experiment(\"Default\")\n",
    "\n",
    "# MLflow 실험 기록 시작\n",
    "with mlflow.start_run():\n",
    "    model = LogisticRegression(C=C, solver=solver, max_iter=200)\n",
    "    model.fit(X_train, y_train)\n",
    "\n",
    "    preds = model.predict(X_test)\n",
    "    acc = accuracy_score(y_test, preds)\n",
    "\n",
    "    # 파라미터와 메트릭 기록\n",
    "    mlflow.log_param(\"C\", C)\n",
    "    mlflow.log_param(\"solver\", solver)\n",
    "    mlflow.log_metric(\"accuracy\", acc)\n",
    "\n",
    "    # 모델 저장\n",
    "    mlflow.sklearn.log_model(model, \"model\")\n",
    "\n",
    "    print(f\"모델 정확도: {acc}\")"
   ]
  },
  {
   "cell_type": "code",
   "execution_count": 25,
   "id": "fe3200f8-3da1-444e-a052-b782a7f15d0c",
   "metadata": {},
   "outputs": [],
   "source": [
    "# Run으로부터 모델 받아와서 등록\n",
    "model_uri = \"runs:/b0e995d320af491489d227dd04ef4941/model\"\n",
    "model = mlflow.sklearn.load_model(model_uri)"
   ]
  },
  {
   "cell_type": "code",
   "execution_count": 27,
   "id": "f6f3b969-098c-4afd-afc4-f95bf920bd2f",
   "metadata": {},
   "outputs": [
    {
     "name": "stderr",
     "output_type": "stream",
     "text": [
      "Registered model 'iris-logistic-regression' already exists. Creating a new version of this model...\n",
      "2025/04/21 03:12:26 INFO mlflow.store.model_registry.abstract_store: Waiting up to 300 seconds for model version to finish creation. Model name: iris-logistic-regression, version 3\n",
      "Created version '3' of model 'iris-logistic-regression'.\n"
     ]
    },
    {
     "data": {
      "text/plain": [
       "<ModelVersion: aliases=[], creation_timestamp=1745205146195, current_stage='None', description='', last_updated_timestamp=1745205146195, name='iris-logistic-regression', run_id='b0e995d320af491489d227dd04ef4941', run_link='', source='/mlflow/artifacts/0/b0e995d320af491489d227dd04ef4941/artifacts/model', status='READY', status_message='', tags={}, user_id='', version='3'>"
      ]
     },
     "execution_count": 27,
     "metadata": {},
     "output_type": "execute_result"
    }
   ],
   "source": [
    "mlflow.register_model(\n",
    "    model_uri=\"runs:/b0e995d320af491489d227dd04ef4941/model\",\n",
    "    name=\"iris-logistic-regression\" # 해당 이름으로 모델 등록. 있다면 새로운 버전으로\n",
    ")"
   ]
  },
  {
   "cell_type": "code",
   "execution_count": 28,
   "id": "a9456397-82be-47cc-b828-cbfc64f74c63",
   "metadata": {},
   "outputs": [
    {
     "data": {
      "text/plain": [
       "<ModelVersion: aliases=[], creation_timestamp=1745204611768, current_stage='Staging', description='', last_updated_timestamp=1745205151366, name='iris-logistic-regression', run_id='7f270f49827b434382b1777c44f933e2', run_link='', source='/mlflow/artifacts/0/7f270f49827b434382b1777c44f933e2/artifacts/model', status='READY', status_message='', tags={}, user_id='', version='1'>"
      ]
     },
     "execution_count": 28,
     "metadata": {},
     "output_type": "execute_result"
    }
   ],
   "source": [
    "client = MlflowClient()\n",
    "\n",
    "client.transition_model_version_stage( # 이 이름의 버전1 모델 Staging으로 지정\n",
    "    name=\"iris-logistic-regression\",\n",
    "    version=1,\n",
    "    stage=\"Staging\"\n",
    ")"
   ]
  },
  {
   "cell_type": "code",
   "execution_count": 7,
   "id": "2985f154-7780-4ca3-a1ef-a61ef08460f2",
   "metadata": {},
   "outputs": [
    {
     "name": "stderr",
     "output_type": "stream",
     "text": [
      "/usr/local/lib/python3.11/site-packages/_distutils_hack/__init__.py:18: UserWarning: Distutils was imported before Setuptools, but importing Setuptools also replaces the `distutils` module in `sys.modules`. This may lead to undesirable behaviors or errors. To avoid these issues, avoid using distutils directly, ensure that setuptools is installed in the traditional way (e.g. not an editable install), and/or make sure that setuptools is always imported before distutils.\n",
      "  warnings.warn(\n",
      "/usr/local/lib/python3.11/site-packages/_distutils_hack/__init__.py:33: UserWarning: Setuptools is replacing distutils.\n",
      "  warnings.warn(\"Setuptools is replacing distutils.\")\n"
     ]
    },
    {
     "name": "stdout",
     "output_type": "stream",
     "text": [
      "C=0.1 정확도=1.0\n"
     ]
    },
    {
     "name": "stderr",
     "output_type": "stream",
     "text": [
      "/usr/local/lib/python3.11/site-packages/_distutils_hack/__init__.py:18: UserWarning: Distutils was imported before Setuptools, but importing Setuptools also replaces the `distutils` module in `sys.modules`. This may lead to undesirable behaviors or errors. To avoid these issues, avoid using distutils directly, ensure that setuptools is installed in the traditional way (e.g. not an editable install), and/or make sure that setuptools is always imported before distutils.\n",
      "  warnings.warn(\n",
      "/usr/local/lib/python3.11/site-packages/_distutils_hack/__init__.py:33: UserWarning: Setuptools is replacing distutils.\n",
      "  warnings.warn(\"Setuptools is replacing distutils.\")\n"
     ]
    },
    {
     "name": "stdout",
     "output_type": "stream",
     "text": [
      "C=1.0 정확도=1.0\n",
      "C=10.0 정확도=1.0\n"
     ]
    },
    {
     "name": "stderr",
     "output_type": "stream",
     "text": [
      "/usr/local/lib/python3.11/site-packages/_distutils_hack/__init__.py:18: UserWarning: Distutils was imported before Setuptools, but importing Setuptools also replaces the `distutils` module in `sys.modules`. This may lead to undesirable behaviors or errors. To avoid these issues, avoid using distutils directly, ensure that setuptools is installed in the traditional way (e.g. not an editable install), and/or make sure that setuptools is always imported before distutils.\n",
      "  warnings.warn(\n",
      "/usr/local/lib/python3.11/site-packages/_distutils_hack/__init__.py:33: UserWarning: Setuptools is replacing distutils.\n",
      "  warnings.warn(\"Setuptools is replacing distutils.\")\n"
     ]
    }
   ],
   "source": [
    "# 등록된 모델을 다른 조건들로 돌리기\n",
    "for C in [0.1, 1.0, 10.0]:\n",
    "    with mlflow.start_run():\n",
    "        model = LogisticRegression(C=C, solver=\"lbfgs\", max_iter=200)\n",
    "        model.fit(X_train, y_train)\n",
    "        preds = model.predict(X_test)\n",
    "        acc = accuracy_score(y_test, preds)\n",
    "\n",
    "        mlflow.log_param(\"C\", C)\n",
    "        mlflow.log_param(\"solver\", \"lbfgs\")\n",
    "        mlflow.log_metric(\"accuracy\", acc)\n",
    "        mlflow.sklearn.log_model(model, \"model\")\n",
    "\n",
    "        print(f\"C={C} 정확도={acc}\")"
   ]
  },
  {
   "cell_type": "code",
   "execution_count": 8,
   "id": "abc0b090-8a0f-45dd-8200-bd59707bc04a",
   "metadata": {},
   "outputs": [
    {
     "name": "stderr",
     "output_type": "stream",
     "text": [
      "/usr/local/lib/python3.11/site-packages/_distutils_hack/__init__.py:18: UserWarning: Distutils was imported before Setuptools, but importing Setuptools also replaces the `distutils` module in `sys.modules`. This may lead to undesirable behaviors or errors. To avoid these issues, avoid using distutils directly, ensure that setuptools is installed in the traditional way (e.g. not an editable install), and/or make sure that setuptools is always imported before distutils.\n",
      "  warnings.warn(\n",
      "/usr/local/lib/python3.11/site-packages/_distutils_hack/__init__.py:33: UserWarning: Setuptools is replacing distutils.\n",
      "  warnings.warn(\"Setuptools is replacing distutils.\")\n"
     ]
    },
    {
     "name": "stdout",
     "output_type": "stream",
     "text": [
      "[run-1] C=0.1 정확도=1.0\n"
     ]
    },
    {
     "name": "stderr",
     "output_type": "stream",
     "text": [
      "/usr/local/lib/python3.11/site-packages/_distutils_hack/__init__.py:18: UserWarning: Distutils was imported before Setuptools, but importing Setuptools also replaces the `distutils` module in `sys.modules`. This may lead to undesirable behaviors or errors. To avoid these issues, avoid using distutils directly, ensure that setuptools is installed in the traditional way (e.g. not an editable install), and/or make sure that setuptools is always imported before distutils.\n",
      "  warnings.warn(\n",
      "/usr/local/lib/python3.11/site-packages/_distutils_hack/__init__.py:33: UserWarning: Setuptools is replacing distutils.\n",
      "  warnings.warn(\"Setuptools is replacing distutils.\")\n"
     ]
    },
    {
     "name": "stdout",
     "output_type": "stream",
     "text": [
      "[run-2] C=1.0 정확도=1.0\n",
      "[run-3] C=10.0 정확도=1.0\n"
     ]
    },
    {
     "name": "stderr",
     "output_type": "stream",
     "text": [
      "/usr/local/lib/python3.11/site-packages/_distutils_hack/__init__.py:18: UserWarning: Distutils was imported before Setuptools, but importing Setuptools also replaces the `distutils` module in `sys.modules`. This may lead to undesirable behaviors or errors. To avoid these issues, avoid using distutils directly, ensure that setuptools is installed in the traditional way (e.g. not an editable install), and/or make sure that setuptools is always imported before distutils.\n",
      "  warnings.warn(\n",
      "/usr/local/lib/python3.11/site-packages/_distutils_hack/__init__.py:33: UserWarning: Setuptools is replacing distutils.\n",
      "  warnings.warn(\"Setuptools is replacing distutils.\")\n"
     ]
    }
   ],
   "source": [
    "# run-1와 같이 이름 붙인 run들 진행\n",
    "for i, C in enumerate([0.1, 1.0, 10.0], start=1):\n",
    "    with mlflow.start_run(run_name=f\"run-{i}\"):\n",
    "        model = LogisticRegression(C=C, solver=\"lbfgs\", max_iter=200)\n",
    "        model.fit(X_train, y_train)\n",
    "        preds = model.predict(X_test)\n",
    "        acc = accuracy_score(y_test, preds)\n",
    "\n",
    "        mlflow.log_param(\"C\", C)\n",
    "        mlflow.log_param(\"solver\", \"lbfgs\")\n",
    "        mlflow.log_metric(\"accuracy\", acc)\n",
    "        mlflow.sklearn.log_model(model, \"model\")\n",
    "\n",
    "        print(f\"[run-{i}] C={C} 정확도={acc}\")"
   ]
  },
  {
   "cell_type": "code",
   "execution_count": 9,
   "id": "57e313c2-893c-4b80-b214-525a0d100814",
   "metadata": {},
   "outputs": [
    {
     "name": "stdout",
     "output_type": "stream",
     "text": [
      "run-3 b0e995d320af491489d227dd04ef4941\n",
      "run-2 7f270f49827b434382b1777c44f933e2\n",
      "run-1 2eeddf6a815146239fb7030cf6ea174d\n",
      "resilient-ram-833 20dec1b7caee4652b809182eb1d78c49\n",
      "marvelous-fox-237 41967e52f721402dbba86d4ffb1a6d27\n",
      "unequaled-calf-559 5aff886fef4e4bd792af7969bd19e156\n",
      "fortunate-fish-631 0f861d30cf1d42e19a09fa804dbfde53\n"
     ]
    }
   ],
   "source": [
    "# Default Path에 있는 run들 리스트 뽑아오기\n",
    "client = mlflow.tracking.MlflowClient()\n",
    "experiment_id = client.get_experiment_by_name(\"Default\").experiment_id\n",
    "\n",
    "runs = client.search_runs(experiment_ids=[experiment_id])\n",
    "for run in runs:\n",
    "    print(run.info.run_name, run.info.run_id)"
   ]
  },
  {
   "cell_type": "code",
   "execution_count": 10,
   "id": "b65492bc-e0d0-4686-b8a8-960afc2fa5de",
   "metadata": {},
   "outputs": [
    {
     "name": "stdout",
     "output_type": "stream",
     "text": [
      "✅ Run ID for 'run-2': 7f270f49827b434382b1777c44f933e2\n"
     ]
    }
   ],
   "source": [
    "from mlflow.tracking import MlflowClient\n",
    "\n",
    "client = MlflowClient()\n",
    "experiment_id = client.get_experiment_by_name(\"Default\").experiment_id\n",
    "\n",
    "target_run_name = \"run-2\"\n",
    "runs = client.search_runs([experiment_id])\n",
    "\n",
    "run_id = None\n",
    "for run in runs:\n",
    "    if run.info.run_name == target_run_name:\n",
    "        run_id = run.info.run_id\n",
    "        break\n",
    "\n",
    "if run_id:\n",
    "    print(f\"✅ Run ID for '{target_run_name}': {run_id}\")\n",
    "else:\n",
    "    print(\"❌ Run Name not found.\")"
   ]
  },
  {
   "cell_type": "code",
   "execution_count": 11,
   "id": "e2fda4c7-8680-47b1-b21d-4c970fc23581",
   "metadata": {},
   "outputs": [
    {
     "name": "stderr",
     "output_type": "stream",
     "text": [
      "Successfully registered model 'iris-logistic-regression'.\n",
      "2025/04/21 03:03:31 INFO mlflow.store.model_registry.abstract_store: Waiting up to 300 seconds for model version to finish creation. Model name: iris-logistic-regression, version 1\n"
     ]
    },
    {
     "name": "stdout",
     "output_type": "stream",
     "text": [
      "🎯 모델 등록 완료: name=iris-logistic-regression, version=1\n"
     ]
    },
    {
     "name": "stderr",
     "output_type": "stream",
     "text": [
      "Created version '1' of model 'iris-logistic-regression'.\n"
     ]
    }
   ],
   "source": [
    "# 모델 등록\n",
    "model_uri = f\"runs:/{run_id}/model\"\n",
    "\n",
    "result = mlflow.register_model(\n",
    "    model_uri=model_uri,\n",
    "    name=\"iris-logistic-regression\"\n",
    ")\n",
    "\n",
    "print(f\"🎯 모델 등록 완료: name={result.name}, version={result.version}\")"
   ]
  },
  {
   "cell_type": "code",
   "execution_count": 12,
   "id": "fc054d79-1fef-4cc9-8f9f-774822c3b5e5",
   "metadata": {},
   "outputs": [
    {
     "data": {
      "text/plain": [
       "<ModelVersion: aliases=[], creation_timestamp=1745204611768, current_stage='Staging', description='', last_updated_timestamp=1745204615735, name='iris-logistic-regression', run_id='7f270f49827b434382b1777c44f933e2', run_link='', source='/mlflow/artifacts/0/7f270f49827b434382b1777c44f933e2/artifacts/model', status='READY', status_message='', tags={}, user_id='', version='1'>"
      ]
     },
     "execution_count": 12,
     "metadata": {},
     "output_type": "execute_result"
    }
   ],
   "source": [
    "# 모델 스테이지 전환\n",
    "client.transition_model_version_stage(\n",
    "    name=\"iris-logistic-regression\",\n",
    "    version=result.version,\n",
    "    stage=\"Staging\"  # 또는 \"Production\"\n",
    ")"
   ]
  },
  {
   "cell_type": "code",
   "execution_count": 14,
   "id": "15ea7399-2526-4785-9786-410ca988283b",
   "metadata": {},
   "outputs": [
    {
     "name": "stdout",
     "output_type": "stream",
     "text": [
      "예측 결과 일부: [1 0 2 1 1]\n"
     ]
    }
   ],
   "source": [
    "# Staging 상태인 <모델 이름 입력> 로딩하기\n",
    "model_name = \"iris-logistic-regression\"\n",
    "\n",
    "# 'Staging' 상태인 모델 버전 불러오기\n",
    "model_uri = f\"models:/{model_name}/Staging\"\n",
    "\n",
    "# 로딩\n",
    "model = mlflow.pyfunc.load_model(model_uri)\n",
    "\n",
    "# 예측 사용 (예시)\n",
    "preds = model.predict(X_test)\n",
    "print(\"예측 결과 일부:\", preds[:5])"
   ]
  },
  {
   "cell_type": "code",
   "execution_count": 15,
   "id": "974de8e7-7f83-491f-9990-309d7053298b",
   "metadata": {},
   "outputs": [
    {
     "name": "stdout",
     "output_type": "stream",
     "text": [
      "버전 1 | 상태: Staging | 정확도: 1.0 | C=1.0 | 이름=run-2\n"
     ]
    }
   ],
   "source": [
    "# 모델 상태 확인\n",
    "client = MlflowClient()\n",
    "models = client.search_model_versions(f\"name='{model_name}'\")\n",
    "\n",
    "for m in models:\n",
    "    run_id = m.run_id\n",
    "    run = client.get_run(run_id)\n",
    "\n",
    "    accuracy = run.data.metrics.get(\"accuracy\")\n",
    "\n",
    "    run_name = run.info.run_name\n",
    "    C = run.data.params.get(\"C\")\n",
    "    print(f\"버전 {m.version} | 상태: {m.current_stage} | 정확도: {accuracy} | C={C} | 이름={run_name}\")"
   ]
  },
  {
   "cell_type": "code",
   "execution_count": 16,
   "id": "b87d296e-b380-4e3f-8db6-4502ac4c4e58",
   "metadata": {},
   "outputs": [
    {
     "name": "stdout",
     "output_type": "stream",
     "text": [
      "✅ 버전 1이 Staging으로 지정됨 (정확도=1.0)\n"
     ]
    }
   ],
   "source": [
    "#정확도가 가장 높은 1개의 모델만 Staging으로 지정하고 나머지는 Archived로 지정\n",
    "client = MlflowClient()\n",
    "model_name = \"iris-logistic-regression\"\n",
    "versions = client.search_model_versions(f\"name='{model_name}'\")\n",
    "\n",
    "# 정확도 기준으로 최고 모델 선택\n",
    "best_accuracy = -1\n",
    "best_version = None\n",
    "for mv in versions:\n",
    "    run = client.get_run(mv.run_id)\n",
    "    acc = run.data.metrics.get(\"accuracy\")\n",
    "    if acc is not None and acc > best_accuracy:\n",
    "        best_accuracy = acc\n",
    "        best_version = mv.version\n",
    "\n",
    "# 기존 Staging 모델 전부 Archived 처리\n",
    "for mv in versions:\n",
    "    if mv.current_stage == \"Staging\" and mv.version != best_version:\n",
    "        client.transition_model_version_stage(\n",
    "            name=model_name,\n",
    "            version=mv.version,\n",
    "            stage=\"Archived\"\n",
    "        )\n",
    "\n",
    "# 최고 모델을 Staging으로 전환\n",
    "if best_version:\n",
    "    client.transition_model_version_stage(\n",
    "        name=model_name,\n",
    "        version=best_version,\n",
    "        stage=\"Staging\"\n",
    "    )\n",
    "    print(f\"✅ 버전 {best_version}이 Staging으로 지정됨 (정확도={best_accuracy})\")"
   ]
  },
  {
   "cell_type": "code",
   "execution_count": null,
   "id": "5a61864e-03dd-47c3-9a71-682c1567aa0c",
   "metadata": {},
   "outputs": [],
   "source": []
  },
  {
   "cell_type": "code",
   "execution_count": 17,
   "id": "9a6f4515-3ba0-46b9-84b6-2075a2c12eed",
   "metadata": {},
   "outputs": [
    {
     "name": "stdout",
     "output_type": "stream",
     "text": [
      "예측 결과 일부: [1 0 2 1 1]\n",
      "[Run: b0e995d320af491489d227dd04ef4941] 예측 결과: [1 0 2 1 1]\n",
      "예측 결과 일부: [1 0 2 1 1]\n",
      "[Run: 7f270f49827b434382b1777c44f933e2] 예측 결과: [1 0 2 1 1]\n",
      "예측 결과 일부: [1 0 2 1 1]\n",
      "[Run: 2eeddf6a815146239fb7030cf6ea174d] 예측 결과: [1 0 2 1 1]\n",
      "예측 결과 일부: [1 0 2 1 1]\n",
      "[Run: 20dec1b7caee4652b809182eb1d78c49] 예측 결과: [1 0 2 1 1]\n",
      "예측 결과 일부: [1 0 2 1 1]\n",
      "[Run: 41967e52f721402dbba86d4ffb1a6d27] 예측 결과: [1 0 2 1 1]\n"
     ]
    }
   ],
   "source": [
    "# 정확도 상위 5개 Run 검색\n",
    "runs = mlflow.search_runs(\n",
    "    experiment_ids=[\"0\"], # 지금 모든 run들은 id 0을 가진 상태\n",
    "    order_by=[\"metrics.accuracy DESC\"],\n",
    "    max_results=5\n",
    ")\n",
    "\n",
    "# 각 Run에서 모델 로드 및 평가\n",
    "for _, run in runs.iterrows():\n",
    "    run_id = run[\"run_id\"]\n",
    "    model_uri = f\"runs:/{run_id}/model\"\n",
    "    model = mlflow.pyfunc.load_model(model_uri)\n",
    "\n",
    "    # 예시: 테스트 입력에 대한 예측 수행\n",
    "    import pandas as pd\n",
    "    preds = model.predict(X_test)\n",
    "    print(\"예측 결과 일부:\", preds[:5])\n",
    "    print(f\"[Run: {run_id}] 예측 결과: {preds[:5]}\")"
   ]
  },
  {
   "cell_type": "code",
   "execution_count": 18,
   "id": "26214229-e9ae-4105-850a-c56a82dc76d6",
   "metadata": {},
   "outputs": [
    {
     "name": "stderr",
     "output_type": "stream",
     "text": [
      "Registered model 'iris-logistic-regression' already exists. Creating a new version of this model...\n",
      "2025/04/21 03:03:46 INFO mlflow.store.model_registry.abstract_store: Waiting up to 300 seconds for model version to finish creation. Model name: iris-logistic-regression, version 2\n"
     ]
    },
    {
     "name": "stdout",
     "output_type": "stream",
     "text": [
      "✅ 정확도 1.0인 모델 Run(b0e995d320af491489d227dd04ef4941)이 버전 2으로 등록되고 Staging 상태로 전환되었습니다.\n"
     ]
    },
    {
     "name": "stderr",
     "output_type": "stream",
     "text": [
      "Created version '2' of model 'iris-logistic-regression'.\n"
     ]
    }
   ],
   "source": [
    "# 가장 정확도가 높은 run의 모델을 iris-logistic-regression으로 등록하기\n",
    "client = MlflowClient()\n",
    "experiment_id = \"0\"  # 필요 시 변경\n",
    "registered_model_name = \"iris-logistic-regression\"\n",
    "\n",
    "# 1. 모든 Run 불러오기\n",
    "runs_df = mlflow.search_runs(\n",
    "    experiment_ids=[experiment_id],\n",
    "    order_by=[\"metrics.accuracy DESC\"]\n",
    ")\n",
    "\n",
    "# 2. 정확도 기준으로 상위 1개 Run 선택\n",
    "best_run = runs_df.iloc[0]\n",
    "best_run_id = best_run[\"run_id\"]\n",
    "best_accuracy = best_run[\"metrics.accuracy\"]\n",
    "\n",
    "# 3. 선택된 Run의 모델 경로 설정\n",
    "model_uri = f\"runs:/{best_run_id}/model\"\n",
    "\n",
    "# 4. 모델을 등록 (이미 등록된 경우 예외 발생 가능, try-except로 감싸도 좋음)\n",
    "mv = mlflow.register_model(\n",
    "    model_uri=model_uri,\n",
    "    name=registered_model_name\n",
    ")\n",
    "\n",
    "best_version = mv.version\n",
    "\n",
    "# 5. 기존 Staging 모델은 모두 Archived 처리\n",
    "versions = client.search_model_versions(f\"name='{registered_model_name}'\")\n",
    "for v in versions:\n",
    "    if v.current_stage == \"Staging\" and v.version != best_version:\n",
    "        client.transition_model_version_stage(\n",
    "            name=registered_model_name,\n",
    "            version=v.version,\n",
    "            stage=\"Archived\"\n",
    "        )\n",
    "\n",
    "# 6. 최고 정확도 모델을 Staging으로 설정\n",
    "client.transition_model_version_stage(\n",
    "    name=registered_model_name,\n",
    "    version=best_version,\n",
    "    stage=\"Staging\"\n",
    ")\n",
    "\n",
    "print(f\"✅ 정확도 {best_accuracy}인 모델 Run({best_run_id})이 버전 {best_version}으로 등록되고 Staging 상태로 전환되었습니다.\")"
   ]
  },
  {
   "cell_type": "code",
   "execution_count": 19,
   "id": "9059f877-0a6b-498e-abd1-0629477083f6",
   "metadata": {},
   "outputs": [
    {
     "name": "stdout",
     "output_type": "stream",
     "text": [
      "📦 Model: iris-logistic-regression, 🔢 Version: 2, 🏷️ Stage: Staging\n",
      "📦 Model: iris-logistic-regression, 🔢 Version: 1, 🏷️ Stage: Archived\n"
     ]
    }
   ],
   "source": [
    "# 모델들의 상태 확인\n",
    "client = MlflowClient()\n",
    "model_name = \"iris-logistic-regression\"  # 원하는 모델 이름으로\n",
    "\n",
    "# 해당 모델의 모든 버전 정보 가져오기\n",
    "versions = client.search_model_versions(f\"name='{model_name}'\")\n",
    "\n",
    "# 각 버전의 상태 출력\n",
    "for mv in versions:\n",
    "    print(f\"📦 Model: {mv.name}, 🔢 Version: {mv.version}, 🏷️ Stage: {mv.current_stage}\")"
   ]
  },
  {
   "cell_type": "code",
   "execution_count": 20,
   "id": "e9f5700c-1641-44ae-a73c-b83176c0a562",
   "metadata": {},
   "outputs": [
    {
     "name": "stdout",
     "output_type": "stream",
     "text": [
      "\n",
      "🔍 모델 이름: iris-logistic-regression\n",
      "  - 버전: 2, Stage: Staging, Run ID: b0e995d320af491489d227dd04ef4941\n",
      "  - 버전: 1, Stage: Archived, Run ID: 7f270f49827b434382b1777c44f933e2\n",
      "\n",
      "🔍 모델 이름: sklearn\n"
     ]
    }
   ],
   "source": [
    "# 모델 이름들을 기준으로 상태들 확인\n",
    "model_names = [\"iris-logistic-regression\", \"sklearn\"]  # 필요한 모델 이름들 수동 작성\n",
    "\n",
    "for model_name in model_names:\n",
    "    print(f\"\\n🔍 모델 이름: {model_name}\")\n",
    "    versions = client.search_model_versions(f\"name='{model_name}'\")\n",
    "    for mv in versions:\n",
    "        print(f\"  - 버전: {mv.version}, Stage: {mv.current_stage}, Run ID: {mv.run_id}\")"
   ]
  },
  {
   "cell_type": "code",
   "execution_count": 29,
   "id": "70e3fab9-5051-4639-a2e0-278da41c1328",
   "metadata": {},
   "outputs": [
    {
     "name": "stdout",
     "output_type": "stream",
     "text": [
      "📊 현재 Staging 정확도: 1.0, 후보 모델 정확도: 1.0\n",
      "⏭ 기존 Staging 모델의 정확도가 더 높거나 같아서 업데이트하지 않았습니다.\n"
     ]
    }
   ],
   "source": [
    "# 최근 5개 Run 불러오기, 그중 가장 정확도가 높은걸 찾아 현재의 Staging 모델과 비교\n",
    "client = MlflowClient()\n",
    "experiment_id = \"0\"\n",
    "registered_model_name = \"iris-logistic-regression\"\n",
    "\n",
    "# 1. 최근 5개 Run 불러오기\n",
    "recent_runs = mlflow.search_runs(\n",
    "    experiment_ids=[experiment_id],\n",
    "    filter_string=\"attributes.status = 'FINISHED'\",\n",
    "    order_by=[\"start_time DESC\"],\n",
    "    max_results=5\n",
    ")\n",
    "\n",
    "# 2. 정확도 기준 상위 1개 Run 선택\n",
    "best_run = recent_runs.sort_values(by=\"metrics.accuracy\", ascending=False).iloc[0]\n",
    "best_run_id = best_run[\"run_id\"]\n",
    "best_accuracy = best_run[\"metrics.accuracy\"]\n",
    "\n",
    "# 3. 현재 Staging에 있는 모델의 정확도 가져오기\n",
    "staging_versions = [\n",
    "    v for v in client.search_model_versions(f\"name='{registered_model_name}'\")\n",
    "    if v.current_stage == \"Staging\"\n",
    "]\n",
    "\n",
    "if staging_versions:\n",
    "    # 가장 최근 Staging 버전의 run_id를 통해 정확도 조회\n",
    "    staging_run_id = staging_versions[0].run_id\n",
    "    staging_run = mlflow.get_run(staging_run_id)\n",
    "    staging_accuracy = staging_run.data.metrics.get(\"accuracy\", -1)\n",
    "else:\n",
    "    staging_accuracy = -1  # 없으면 비교 위해 음수로 설정\n",
    "\n",
    "print(f\"📊 현재 Staging 정확도: {staging_accuracy}, 후보 모델 정확도: {best_accuracy}\")\n",
    "\n",
    "# 4. 정확도가 더 높은 경우에만 업데이트\n",
    "if best_accuracy > staging_accuracy:\n",
    "    model_uri = f\"runs:/{best_run_id}/model\"\n",
    "\n",
    "    try:\n",
    "        mv = mlflow.register_model(model_uri=model_uri, name=registered_model_name)\n",
    "        best_version = mv.version\n",
    "    except Exception as e:\n",
    "        print(\"이미 등록된 모델입니다. 버전을 가져옵니다.\")\n",
    "        versions = client.search_model_versions(f\"name='{registered_model_name}'\")\n",
    "        best_version = max(int(v.version) for v in versions if v.run_id == best_run_id)\n",
    "\n",
    "    # 기존 Staging 모델은 모두 Archived 처리\n",
    "    for v in versions:\n",
    "        if v.current_stage == \"Staging\" and v.version != str(best_version):\n",
    "            client.transition_model_version_stage(\n",
    "                name=registered_model_name,\n",
    "                version=v.version,\n",
    "                stage=\"Archived\"\n",
    "            )\n",
    "\n",
    "    # 새 모델을 Staging으로 전환\n",
    "    client.transition_model_version_stage(\n",
    "        name=registered_model_name,\n",
    "        version=best_version,\n",
    "        stage=\"Staging\"\n",
    "    )\n",
    "\n",
    "    print(f\"✅ 정확도 {best_accuracy}인 모델 Run({best_run_id})이 Staging으로 업데이트되었습니다.\")\n",
    "else:\n",
    "    print(\"⏭ 기존 Staging 모델의 정확도가 더 높거나 같아서 업데이트하지 않았습니다.\")"
   ]
  },
  {
   "cell_type": "code",
   "execution_count": 34,
   "id": "eb8ac51e-4beb-49f8-8269-dfd8d6eea589",
   "metadata": {},
   "outputs": [
    {
     "name": "stdout",
     "output_type": "stream",
     "text": [
      "✅ 정확도: 1.00\n"
     ]
    },
    {
     "name": "stderr",
     "output_type": "stream",
     "text": [
      "/usr/local/lib/python3.11/site-packages/sklearn/base.py:458: UserWarning: X has feature names, but LogisticRegression was fitted without feature names\n",
      "  warnings.warn(\n"
     ]
    }
   ],
   "source": [
    "#모델 테스트\n",
    "# 데이터 로딩\n",
    "iris = load_iris()\n",
    "X_test = pd.DataFrame(iris.data[:10], columns=iris.feature_names)\n",
    "y_test = iris.target[:10]\n",
    "\n",
    "# 모델 불러오기\n",
    "model = mlflow.pyfunc.load_model(\"models:/iris-logistic-regression/Staging\")\n",
    "\n",
    "# 예측\n",
    "y_pred = model.predict(X_test)\n",
    "\n",
    "# 정확도 평가\n",
    "acc = accuracy_score(y_test, y_pred)\n",
    "print(f\"✅ 정확도: {acc:.2f}\")"
   ]
  },
  {
   "cell_type": "code",
   "execution_count": null,
   "id": "d04b7d74-41a9-42ef-ac12-f08acadd508e",
   "metadata": {},
   "outputs": [],
   "source": []
  }
 ],
 "metadata": {
  "kernelspec": {
   "display_name": "Python 3 (ipykernel)",
   "language": "python",
   "name": "python3"
  },
  "language_info": {
   "codemirror_mode": {
    "name": "ipython",
    "version": 3
   },
   "file_extension": ".py",
   "mimetype": "text/x-python",
   "name": "python",
   "nbconvert_exporter": "python",
   "pygments_lexer": "ipython3",
   "version": "3.11.12"
  }
 },
 "nbformat": 4,
 "nbformat_minor": 5
}
